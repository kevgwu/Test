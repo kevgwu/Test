{
 "cells": [
  {
   "cell_type": "code",
   "execution_count": 1,
   "id": "3f86ebac",
   "metadata": {},
   "outputs": [],
   "source": [
    "import pandas as pd\n",
    "import numpy as np\n",
    "import scipy\n",
    "from scipy import stats\n",
    "from sklearn.neighbors import KNeighborsClassifier \n",
    "from sklearn.model_selection import train_test_split\n",
    "from sklearn.model_selection import cross_val_score\n",
    "from sklearn.model_selection import ShuffleSplit"
   ]
  },
  {
   "cell_type": "code",
   "execution_count": 2,
   "id": "34e1ee4c",
   "metadata": {},
   "outputs": [],
   "source": [
    "phones = pd.read_csv(\"phones.csv\")\n",
    "rankings = pd.read_csv(\"rankings.csv\")"
   ]
  },
  {
   "cell_type": "markdown",
   "id": "7c351db5",
   "metadata": {},
   "source": [
    "### Exploring Data"
   ]
  },
  {
   "cell_type": "code",
   "execution_count": 3,
   "id": "3e7286d4",
   "metadata": {},
   "outputs": [],
   "source": [
    "ranked_phones = set(np.unique(np.concatenate([rankings[\"top\"], rankings[\"second\"], rankings[\"third\"]])))\n",
    "known_phones = set(phones[\"Phone\"])"
   ]
  },
  {
   "cell_type": "markdown",
   "id": "461aab2c",
   "metadata": {},
   "source": [
    "There are 28 phones that are recommended, but 37 phones in our phone database."
   ]
  },
  {
   "cell_type": "code",
   "execution_count": 4,
   "id": "78ea41f3",
   "metadata": {},
   "outputs": [
    {
     "data": {
      "text/html": [
       "<div>\n",
       "<style scoped>\n",
       "    .dataframe tbody tr th:only-of-type {\n",
       "        vertical-align: middle;\n",
       "    }\n",
       "\n",
       "    .dataframe tbody tr th {\n",
       "        vertical-align: top;\n",
       "    }\n",
       "\n",
       "    .dataframe thead th {\n",
       "        text-align: right;\n",
       "    }\n",
       "</style>\n",
       "<table border=\"1\" class=\"dataframe\">\n",
       "  <thead>\n",
       "    <tr style=\"text-align: right;\">\n",
       "      <th></th>\n",
       "      <th>Phone</th>\n",
       "      <th>OS</th>\n",
       "      <th>Price</th>\n",
       "      <th>Area</th>\n",
       "      <th>Camera</th>\n",
       "      <th>Battery</th>\n",
       "      <th>Speed</th>\n",
       "    </tr>\n",
       "  </thead>\n",
       "  <tbody>\n",
       "    <tr>\n",
       "      <th>0</th>\n",
       "      <td>OnePlus 8</td>\n",
       "      <td>Android</td>\n",
       "      <td>NaN</td>\n",
       "      <td>18.1</td>\n",
       "      <td>7.0</td>\n",
       "      <td>7.07</td>\n",
       "      <td>7.3</td>\n",
       "    </tr>\n",
       "    <tr>\n",
       "      <th>1</th>\n",
       "      <td>OnePlus 8T</td>\n",
       "      <td>Android</td>\n",
       "      <td>399.0</td>\n",
       "      <td>18.5</td>\n",
       "      <td>7.0</td>\n",
       "      <td>6.95</td>\n",
       "      <td>7.5</td>\n",
       "    </tr>\n",
       "  </tbody>\n",
       "</table>\n",
       "</div>"
      ],
      "text/plain": [
       "        Phone       OS  Price  Area  Camera  Battery  Speed\n",
       "0   OnePlus 8  Android    NaN  18.1     7.0     7.07    7.3\n",
       "1  OnePlus 8T  Android  399.0  18.5     7.0     6.95    7.5"
      ]
     },
     "execution_count": 4,
     "metadata": {},
     "output_type": "execute_result"
    }
   ],
   "source": [
    "phones.head(2)"
   ]
  },
  {
   "cell_type": "code",
   "execution_count": 5,
   "id": "238aaedf",
   "metadata": {},
   "outputs": [
    {
     "data": {
      "text/html": [
       "<div>\n",
       "<style scoped>\n",
       "    .dataframe tbody tr th:only-of-type {\n",
       "        vertical-align: middle;\n",
       "    }\n",
       "\n",
       "    .dataframe tbody tr th {\n",
       "        vertical-align: top;\n",
       "    }\n",
       "\n",
       "    .dataframe thead th {\n",
       "        text-align: right;\n",
       "    }\n",
       "</style>\n",
       "<table border=\"1\" class=\"dataframe\">\n",
       "  <thead>\n",
       "    <tr style=\"text-align: right;\">\n",
       "      <th></th>\n",
       "      <th>OS</th>\n",
       "      <th>Budget</th>\n",
       "      <th>Size</th>\n",
       "      <th>Camera Importance</th>\n",
       "      <th>Usage Hours (Battery)</th>\n",
       "      <th>Speed Importance</th>\n",
       "      <th>top</th>\n",
       "      <th>second</th>\n",
       "      <th>third</th>\n",
       "      <th>confidence</th>\n",
       "      <th>difficulty</th>\n",
       "    </tr>\n",
       "  </thead>\n",
       "  <tbody>\n",
       "    <tr>\n",
       "      <th>0</th>\n",
       "      <td>Must be Android</td>\n",
       "      <td>400.00</td>\n",
       "      <td>Large</td>\n",
       "      <td>A little</td>\n",
       "      <td>A little</td>\n",
       "      <td>A lot</td>\n",
       "      <td>Motorola Moto G100</td>\n",
       "      <td>Motorola Edge (2021)</td>\n",
       "      <td>Samsung Galaxy A42</td>\n",
       "      <td>OK</td>\n",
       "      <td>Medium</td>\n",
       "    </tr>\n",
       "    <tr>\n",
       "      <th>1</th>\n",
       "      <td>Must be Android</td>\n",
       "      <td>400.00</td>\n",
       "      <td>Large</td>\n",
       "      <td>A ton</td>\n",
       "      <td>A little</td>\n",
       "      <td>I need speed</td>\n",
       "      <td>Google Pixel 6</td>\n",
       "      <td>OnePlus 9</td>\n",
       "      <td>Samsung Galaxy S20 FE</td>\n",
       "      <td>OK</td>\n",
       "      <td>Hard</td>\n",
       "    </tr>\n",
       "  </tbody>\n",
       "</table>\n",
       "</div>"
      ],
      "text/plain": [
       "                OS  Budget   Size Camera Importance Usage Hours (Battery)  \\\n",
       "0  Must be Android  400.00  Large          A little              A little   \n",
       "1  Must be Android  400.00  Large             A ton              A little   \n",
       "\n",
       "  Speed Importance                 top                second  \\\n",
       "0            A lot  Motorola Moto G100  Motorola Edge (2021)   \n",
       "1     I need speed      Google Pixel 6             OnePlus 9   \n",
       "\n",
       "                   third confidence difficulty  \n",
       "0     Samsung Galaxy A42         OK     Medium  \n",
       "1  Samsung Galaxy S20 FE         OK       Hard  "
      ]
     },
     "execution_count": 5,
     "metadata": {},
     "output_type": "execute_result"
    }
   ],
   "source": [
    "rankings.head(2)"
   ]
  },
  {
   "cell_type": "code",
   "execution_count": 6,
   "id": "4a6bb912",
   "metadata": {},
   "outputs": [
    {
     "data": {
      "text/html": [
       "<div>\n",
       "<style scoped>\n",
       "    .dataframe tbody tr th:only-of-type {\n",
       "        vertical-align: middle;\n",
       "    }\n",
       "\n",
       "    .dataframe tbody tr th {\n",
       "        vertical-align: top;\n",
       "    }\n",
       "\n",
       "    .dataframe thead th {\n",
       "        text-align: right;\n",
       "    }\n",
       "</style>\n",
       "<table border=\"1\" class=\"dataframe\">\n",
       "  <thead>\n",
       "    <tr style=\"text-align: right;\">\n",
       "      <th></th>\n",
       "      <th>OS</th>\n",
       "      <th>Budget</th>\n",
       "      <th>Size</th>\n",
       "      <th>Camera Importance</th>\n",
       "      <th>Usage Hours (Battery)</th>\n",
       "      <th>Speed Importance</th>\n",
       "      <th>top</th>\n",
       "      <th>second</th>\n",
       "      <th>third</th>\n",
       "      <th>confidence</th>\n",
       "      <th>difficulty</th>\n",
       "    </tr>\n",
       "  </thead>\n",
       "  <tbody>\n",
       "    <tr>\n",
       "      <th>count</th>\n",
       "      <td>177</td>\n",
       "      <td>177</td>\n",
       "      <td>177</td>\n",
       "      <td>177</td>\n",
       "      <td>177</td>\n",
       "      <td>177</td>\n",
       "      <td>177</td>\n",
       "      <td>177</td>\n",
       "      <td>177</td>\n",
       "      <td>177</td>\n",
       "      <td>177</td>\n",
       "    </tr>\n",
       "    <tr>\n",
       "      <th>unique</th>\n",
       "      <td>5</td>\n",
       "      <td>4</td>\n",
       "      <td>4</td>\n",
       "      <td>5</td>\n",
       "      <td>4</td>\n",
       "      <td>4</td>\n",
       "      <td>21</td>\n",
       "      <td>25</td>\n",
       "      <td>27</td>\n",
       "      <td>3</td>\n",
       "      <td>3</td>\n",
       "    </tr>\n",
       "    <tr>\n",
       "      <th>top</th>\n",
       "      <td>No preference</td>\n",
       "      <td>Not sure</td>\n",
       "      <td>No preference</td>\n",
       "      <td>A little</td>\n",
       "      <td>Not sure</td>\n",
       "      <td>A little</td>\n",
       "      <td>Apple iPhone 13 Pro Max</td>\n",
       "      <td>Apple iPhone 13 Pro</td>\n",
       "      <td>Apple iPhone 13</td>\n",
       "      <td>OK</td>\n",
       "      <td>Medium</td>\n",
       "    </tr>\n",
       "    <tr>\n",
       "      <th>freq</th>\n",
       "      <td>62</td>\n",
       "      <td>74</td>\n",
       "      <td>66</td>\n",
       "      <td>38</td>\n",
       "      <td>79</td>\n",
       "      <td>68</td>\n",
       "      <td>21</td>\n",
       "      <td>22</td>\n",
       "      <td>24</td>\n",
       "      <td>90</td>\n",
       "      <td>99</td>\n",
       "    </tr>\n",
       "  </tbody>\n",
       "</table>\n",
       "</div>"
      ],
      "text/plain": [
       "                   OS    Budget           Size Camera Importance  \\\n",
       "count             177       177            177               177   \n",
       "unique              5         4              4                 5   \n",
       "top     No preference  Not sure  No preference          A little   \n",
       "freq               62        74             66                38   \n",
       "\n",
       "       Usage Hours (Battery) Speed Importance                      top  \\\n",
       "count                    177              177                      177   \n",
       "unique                     4                4                       21   \n",
       "top                 Not sure         A little  Apple iPhone 13 Pro Max   \n",
       "freq                      79               68                       21   \n",
       "\n",
       "                     second            third confidence difficulty  \n",
       "count                   177              177        177        177  \n",
       "unique                   25               27          3          3  \n",
       "top     Apple iPhone 13 Pro  Apple iPhone 13         OK     Medium  \n",
       "freq                     22               24         90         99  "
      ]
     },
     "execution_count": 6,
     "metadata": {},
     "output_type": "execute_result"
    }
   ],
   "source": [
    "rankings.describe()"
   ]
  },
  {
   "cell_type": "markdown",
   "id": "52401d12",
   "metadata": {},
   "source": [
    "### Cleaning & Preparating Phones DF"
   ]
  },
  {
   "cell_type": "code",
   "execution_count": 7,
   "id": "a4eb7107",
   "metadata": {},
   "outputs": [],
   "source": [
    "#Drop rows with NA prices since they aren't in ranking table either\n",
    "phones.dropna(axis=0,inplace=True)"
   ]
  },
  {
   "cell_type": "code",
   "execution_count": 8,
   "id": "f4a8cad2",
   "metadata": {
    "scrolled": false
   },
   "outputs": [],
   "source": [
    "#Standardized phones DF to calculate rating scores for each phone.\n",
    "phones2=phones.copy()\n",
    "\n",
    "col_names=['Price', 'Area', 'Camera', 'Battery', 'Speed']\n",
    "\n",
    "for column in col_names:\n",
    "    phones2['{}'.format(column)] = stats.zscore(phones2['{}'.format(column)])"
   ]
  },
  {
   "cell_type": "code",
   "execution_count": 9,
   "id": "42c99f2c",
   "metadata": {},
   "outputs": [],
   "source": [
    "#Calculating rating for each phone & adding it to the original phone table.\n",
    "phones['Rating']=phones2.Price+phones2.Area+phones2.Camera+phones2.Battery+phones2.Speed"
   ]
  },
  {
   "cell_type": "code",
   "execution_count": 10,
   "id": "fc4196d4",
   "metadata": {},
   "outputs": [
    {
     "data": {
      "text/html": [
       "<div>\n",
       "<style scoped>\n",
       "    .dataframe tbody tr th:only-of-type {\n",
       "        vertical-align: middle;\n",
       "    }\n",
       "\n",
       "    .dataframe tbody tr th {\n",
       "        vertical-align: top;\n",
       "    }\n",
       "\n",
       "    .dataframe thead th {\n",
       "        text-align: right;\n",
       "    }\n",
       "</style>\n",
       "<table border=\"1\" class=\"dataframe\">\n",
       "  <thead>\n",
       "    <tr style=\"text-align: right;\">\n",
       "      <th></th>\n",
       "      <th>Phone</th>\n",
       "      <th>OS</th>\n",
       "      <th>Price</th>\n",
       "      <th>Area</th>\n",
       "      <th>Camera</th>\n",
       "      <th>Battery</th>\n",
       "      <th>Speed</th>\n",
       "      <th>Rating</th>\n",
       "    </tr>\n",
       "  </thead>\n",
       "  <tbody>\n",
       "    <tr>\n",
       "      <th>1</th>\n",
       "      <td>OnePlus 8T</td>\n",
       "      <td>Android</td>\n",
       "      <td>399.0</td>\n",
       "      <td>18.5</td>\n",
       "      <td>7.0</td>\n",
       "      <td>6.95</td>\n",
       "      <td>7.5</td>\n",
       "      <td>-1.070986</td>\n",
       "    </tr>\n",
       "    <tr>\n",
       "      <th>3</th>\n",
       "      <td>OnePlus 9</td>\n",
       "      <td>Android</td>\n",
       "      <td>599.0</td>\n",
       "      <td>18.4</td>\n",
       "      <td>8.5</td>\n",
       "      <td>6.22</td>\n",
       "      <td>8.5</td>\n",
       "      <td>0.391285</td>\n",
       "    </tr>\n",
       "    <tr>\n",
       "      <th>4</th>\n",
       "      <td>OnePlus 9 Pro</td>\n",
       "      <td>Android</td>\n",
       "      <td>799.0</td>\n",
       "      <td>18.6</td>\n",
       "      <td>8.7</td>\n",
       "      <td>5.98</td>\n",
       "      <td>8.5</td>\n",
       "      <td>1.171591</td>\n",
       "    </tr>\n",
       "    <tr>\n",
       "      <th>5</th>\n",
       "      <td>Motorola Edge (2021)</td>\n",
       "      <td>Android</td>\n",
       "      <td>449.0</td>\n",
       "      <td>19.8</td>\n",
       "      <td>6.5</td>\n",
       "      <td>8.17</td>\n",
       "      <td>6.5</td>\n",
       "      <td>-0.011016</td>\n",
       "    </tr>\n",
       "    <tr>\n",
       "      <th>6</th>\n",
       "      <td>Motorola Edge 30 Pro</td>\n",
       "      <td>Android</td>\n",
       "      <td>899.0</td>\n",
       "      <td>19.2</td>\n",
       "      <td>8.3</td>\n",
       "      <td>5.98</td>\n",
       "      <td>8.5</td>\n",
       "      <td>1.626206</td>\n",
       "    </tr>\n",
       "  </tbody>\n",
       "</table>\n",
       "</div>"
      ],
      "text/plain": [
       "                  Phone       OS  Price  Area  Camera  Battery  Speed  \\\n",
       "1            OnePlus 8T  Android  399.0  18.5     7.0     6.95    7.5   \n",
       "3             OnePlus 9  Android  599.0  18.4     8.5     6.22    8.5   \n",
       "4         OnePlus 9 Pro  Android  799.0  18.6     8.7     5.98    8.5   \n",
       "5  Motorola Edge (2021)  Android  449.0  19.8     6.5     8.17    6.5   \n",
       "6  Motorola Edge 30 Pro  Android  899.0  19.2     8.3     5.98    8.5   \n",
       "\n",
       "     Rating  \n",
       "1 -1.070986  \n",
       "3  0.391285  \n",
       "4  1.171591  \n",
       "5 -0.011016  \n",
       "6  1.626206  "
      ]
     },
     "execution_count": 10,
     "metadata": {},
     "output_type": "execute_result"
    }
   ],
   "source": [
    "phones.head()"
   ]
  },
  {
   "cell_type": "markdown",
   "id": "53633b33",
   "metadata": {},
   "source": [
    "### Cleaning & Preparating Ranking DF"
   ]
  },
  {
   "cell_type": "code",
   "execution_count": 11,
   "id": "6347a62d",
   "metadata": {},
   "outputs": [],
   "source": [
    "#Drop confidence & difficulty columns\n",
    "rankings.drop(columns=['confidence','difficulty'], inplace=True); "
   ]
  },
  {
   "cell_type": "code",
   "execution_count": 12,
   "id": "1cabe662",
   "metadata": {},
   "outputs": [
    {
     "name": "stdout",
     "output_type": "stream",
     "text": [
      "{'Not sure', 'A little', 'A ton', 'A lot', 'Somewhat'}\n",
      "{'Not sure', 'A ton', 'A lot', 'A little'}\n",
      "{'A lot', 'I need speed', 'Not sure', 'A little'}\n",
      "{'Large', 'Small', 'Medium', 'No preference'}\n",
      "{'Must be iPhone', 'Prefer iPhone', 'Must be Android', 'Prefer Android', 'No preference'}\n",
      "{'Large', 'Small', 'Medium', 'No preference'}\n",
      "{'Not sure', '800.00', '400.00', '600.00'}\n"
     ]
    }
   ],
   "source": [
    "#Exploring column scales\n",
    "print(set(rankings['Camera Importance']))\n",
    "print(set(rankings['Usage Hours (Battery)']))\n",
    "print(set(rankings['Speed Importance']))\n",
    "print(set(rankings['Size']))\n",
    "print(set(rankings['OS']))\n",
    "print(set(rankings['Size']))\n",
    "print(set(rankings['Budget']))"
   ]
  },
  {
   "cell_type": "code",
   "execution_count": 13,
   "id": "35d2e1e1",
   "metadata": {},
   "outputs": [],
   "source": [
    "#Changing string scales to numerical ordinal scales\n",
    "\n",
    "camera_scale = {'A ton':4, 'A lot':3, 'Somewhat':2, 'A little':1, 'Not sure':0}\n",
    "battery_scale = {'A ton':3, 'A lot':2, 'A little':1, 'Not sure':0}\n",
    "speed_scale = {'A lot':3, 'I need speed':2, 'A little':1, 'Not sure':0}\n",
    "size_scale={'Large':3,'Medium':2,  'Small':1, 'No preference':0}\n",
    "os_scale={'Must be iPhone':4, 'Prefer iPhone':3, 'No preference':2, 'Prefer Android':1, 'Must be Android':0}\n",
    "budget_scale={'400.00':400,'600.00':600,'800.00':800,'Not sure':700}\n",
    "\n",
    "rankings['Camera Importance'] = rankings['Camera Importance'].apply(lambda x: camera_scale[x])\n",
    "rankings['Usage Hours (Battery)'] = rankings['Usage Hours (Battery)'].apply(lambda x: battery_scale[x])\n",
    "rankings['Speed Importance'] = rankings['Speed Importance'].apply(lambda x: speed_scale[x])\n",
    "rankings['OS'] = rankings['OS'].apply(lambda x: os_scale[x])\n",
    "rankings['Size'] = rankings['Size'].apply(lambda x: size_scale[x])\n",
    "rankings['Budget'] = rankings['Budget'].apply(lambda x: budget_scale[x])"
   ]
  },
  {
   "cell_type": "code",
   "execution_count": 14,
   "id": "4041c643",
   "metadata": {},
   "outputs": [
    {
     "data": {
      "text/html": [
       "<div>\n",
       "<style scoped>\n",
       "    .dataframe tbody tr th:only-of-type {\n",
       "        vertical-align: middle;\n",
       "    }\n",
       "\n",
       "    .dataframe tbody tr th {\n",
       "        vertical-align: top;\n",
       "    }\n",
       "\n",
       "    .dataframe thead th {\n",
       "        text-align: right;\n",
       "    }\n",
       "</style>\n",
       "<table border=\"1\" class=\"dataframe\">\n",
       "  <thead>\n",
       "    <tr style=\"text-align: right;\">\n",
       "      <th></th>\n",
       "      <th>OS</th>\n",
       "      <th>Budget</th>\n",
       "      <th>Size</th>\n",
       "      <th>Camera Importance</th>\n",
       "      <th>Usage Hours (Battery)</th>\n",
       "      <th>Speed Importance</th>\n",
       "      <th>top</th>\n",
       "      <th>second</th>\n",
       "      <th>third</th>\n",
       "    </tr>\n",
       "  </thead>\n",
       "  <tbody>\n",
       "    <tr>\n",
       "      <th>0</th>\n",
       "      <td>0</td>\n",
       "      <td>400</td>\n",
       "      <td>3</td>\n",
       "      <td>1</td>\n",
       "      <td>1</td>\n",
       "      <td>3</td>\n",
       "      <td>Motorola Moto G100</td>\n",
       "      <td>Motorola Edge (2021)</td>\n",
       "      <td>Samsung Galaxy A42</td>\n",
       "    </tr>\n",
       "    <tr>\n",
       "      <th>1</th>\n",
       "      <td>0</td>\n",
       "      <td>400</td>\n",
       "      <td>3</td>\n",
       "      <td>4</td>\n",
       "      <td>1</td>\n",
       "      <td>2</td>\n",
       "      <td>Google Pixel 6</td>\n",
       "      <td>OnePlus 9</td>\n",
       "      <td>Samsung Galaxy S20 FE</td>\n",
       "    </tr>\n",
       "    <tr>\n",
       "      <th>2</th>\n",
       "      <td>0</td>\n",
       "      <td>400</td>\n",
       "      <td>2</td>\n",
       "      <td>0</td>\n",
       "      <td>0</td>\n",
       "      <td>2</td>\n",
       "      <td>OnePlus 8T</td>\n",
       "      <td>Motorola Moto G100</td>\n",
       "      <td>OnePlus 9</td>\n",
       "    </tr>\n",
       "  </tbody>\n",
       "</table>\n",
       "</div>"
      ],
      "text/plain": [
       "   OS  Budget  Size  Camera Importance  Usage Hours (Battery)  \\\n",
       "0   0     400     3                  1                      1   \n",
       "1   0     400     3                  4                      1   \n",
       "2   0     400     2                  0                      0   \n",
       "\n",
       "   Speed Importance                 top                second  \\\n",
       "0                 3  Motorola Moto G100  Motorola Edge (2021)   \n",
       "1                 2      Google Pixel 6             OnePlus 9   \n",
       "2                 2          OnePlus 8T    Motorola Moto G100   \n",
       "\n",
       "                   third  \n",
       "0     Samsung Galaxy A42  \n",
       "1  Samsung Galaxy S20 FE  \n",
       "2              OnePlus 9  "
      ]
     },
     "execution_count": 14,
     "metadata": {},
     "output_type": "execute_result"
    }
   ],
   "source": [
    "rankings.head(3)"
   ]
  },
  {
   "cell_type": "markdown",
   "id": "efcbd94e",
   "metadata": {},
   "source": [
    "### Train-Test Split for Training & Evaluation"
   ]
  },
  {
   "cell_type": "code",
   "execution_count": 15,
   "id": "e2d49d31",
   "metadata": {},
   "outputs": [],
   "source": [
    "#Preparing data for split\n",
    "X=rankings[['OS','Budget','Size','Camera Importance','Usage Hours (Battery)','Speed Importance']]\n",
    "y1=rankings[['top']]\n",
    "y2=rankings[['second']]\n",
    "y3=rankings[['third']]"
   ]
  },
  {
   "cell_type": "code",
   "execution_count": 16,
   "id": "639799e7",
   "metadata": {},
   "outputs": [],
   "source": [
    "#Split with top recommendation\n",
    "X_train, X_test, y1_train, y1_test = train_test_split(X, y1, test_size=0.33, random_state=1, shuffle=True)\n",
    "#Split with second recommendation\n",
    "X_train, X_test, y2_train, y2_test = train_test_split(X, y2, test_size=0.33, random_state=1, shuffle=True)\n",
    "#Split with third recommendation\n",
    "X_train, X_test, y3_train, y3_test = train_test_split(X, y3, test_size=0.33, random_state=1, shuffle=True)"
   ]
  },
  {
   "cell_type": "markdown",
   "id": "7623ae69",
   "metadata": {},
   "source": [
    "## Recommender Algorithm"
   ]
  },
  {
   "cell_type": "markdown",
   "id": "fd4c6e2d",
   "metadata": {},
   "source": [
    "### Hyperparameter Tuning for KNN"
   ]
  },
  {
   "cell_type": "code",
   "execution_count": 17,
   "id": "94738ac2",
   "metadata": {
    "scrolled": true
   },
   "outputs": [
    {
     "name": "stdout",
     "output_type": "stream",
     "text": [
      "When leaf size= 15 & p=1, score is 0.342\n",
      "When leaf size= 30 & p=1, score is 0.346\n",
      "When leaf size= 45 & p=1, score is 0.346\n",
      "When leaf size= 60 & p=1, score is 0.349\n",
      "When leaf size= 80 & p=1, score is 0.349\n",
      "When leaf size= 15 & p=2, score is 0.292\n",
      "When leaf size= 30 & p=2, score is 0.295\n",
      "When leaf size= 45 & p=2, score is 0.295\n",
      "When leaf size= 60 & p=2, score is 0.302\n",
      "When leaf size= 80 & p=2, score is 0.302\n"
     ]
    }
   ],
   "source": [
    "#Parameters to be tested\n",
    "leaf_sizes=[15,30,45,60,80]\n",
    "p_options=[1,2]\n",
    "\n",
    "#Grid Searching Parameters\n",
    "for p in p_options:\n",
    "    for leaf_size in leaf_sizes:\n",
    "        \n",
    "        nn_model=KNeighborsClassifier(n_neighbors=1,p=p,leaf_size=leaf_size) #KNN Model\n",
    "        cv = ShuffleSplit(n_splits=5, test_size=0.33,random_state=2) #Creating fold splits for parameter testing.\n",
    "        score=cross_val_score(nn_model,X,y1.top,cv=cv) \n",
    "        \n",
    "        print('When leaf size= {} & p={}, score is {:.3f}'.format(leaf_size,p,np.mean(score)))"
   ]
  },
  {
   "cell_type": "code",
   "execution_count": 18,
   "id": "a2790498",
   "metadata": {},
   "outputs": [
    {
     "data": {
      "text/html": [
       "<div>\n",
       "<style scoped>\n",
       "    .dataframe tbody tr th:only-of-type {\n",
       "        vertical-align: middle;\n",
       "    }\n",
       "\n",
       "    .dataframe tbody tr th {\n",
       "        vertical-align: top;\n",
       "    }\n",
       "\n",
       "    .dataframe thead th {\n",
       "        text-align: right;\n",
       "    }\n",
       "</style>\n",
       "<table border=\"1\" class=\"dataframe\">\n",
       "  <thead>\n",
       "    <tr style=\"text-align: right;\">\n",
       "      <th></th>\n",
       "      <th>OS</th>\n",
       "      <th>Budget</th>\n",
       "      <th>Size</th>\n",
       "      <th>Camera Importance</th>\n",
       "      <th>Usage Hours (Battery)</th>\n",
       "      <th>Speed Importance</th>\n",
       "    </tr>\n",
       "  </thead>\n",
       "  <tbody>\n",
       "    <tr>\n",
       "      <th>66</th>\n",
       "      <td>2</td>\n",
       "      <td>800</td>\n",
       "      <td>0</td>\n",
       "      <td>1</td>\n",
       "      <td>0</td>\n",
       "      <td>0</td>\n",
       "    </tr>\n",
       "  </tbody>\n",
       "</table>\n",
       "</div>"
      ],
      "text/plain": [
       "    OS  Budget  Size  Camera Importance  Usage Hours (Battery)  \\\n",
       "66   2     800     0                  1                      0   \n",
       "\n",
       "    Speed Importance  \n",
       "66                 0  "
      ]
     },
     "execution_count": 18,
     "metadata": {},
     "output_type": "execute_result"
    }
   ],
   "source": [
    "X_train.head(1)"
   ]
  },
  {
   "cell_type": "code",
   "execution_count": 19,
   "id": "32df7210",
   "metadata": {},
   "outputs": [
    {
     "data": {
      "text/plain": [
       "OS                         2\n",
       "Budget                   800\n",
       "Size                       0\n",
       "Camera Importance          1\n",
       "Usage Hours (Battery)      0\n",
       "Speed Importance           0\n",
       "Name: 66, dtype: int64"
      ]
     },
     "execution_count": 19,
     "metadata": {},
     "output_type": "execute_result"
    }
   ],
   "source": [
    "X_train.iloc[0]"
   ]
  },
  {
   "cell_type": "code",
   "execution_count": 32,
   "id": "8fa98e79",
   "metadata": {},
   "outputs": [],
   "source": [
    "def predict_top_3_ranking(query):\n",
    "    '''\n",
    "    This function takes a query expressed as numerical values. \n",
    "    See the dictionary in the code above for how to encode the query.\n",
    "    \n",
    "    Input: list of query numbers (list, int)\n",
    "    Output: top phone recommendation (str)\n",
    "    \n",
    "    '''\n",
    "    \n",
    "    query=[query]\n",
    "    \n",
    "    #List of existing queries\n",
    "    existing_queries=[]\n",
    "\n",
    "    for i in range(X_train.shape[0]):\n",
    "        query_sample=[]\n",
    "        query_sample.append(X_train.OS.iloc[i])\n",
    "        query_sample.append(X_train.Budget.iloc[i])\n",
    "        query_sample.append(X_train.Size.iloc[i])\n",
    "        query_sample.append(X_train['Camera Importance'].iloc[i])\n",
    "        query_sample.append(X_train['Usage Hours (Battery)'].iloc[i])\n",
    "        query_sample.append(X_train['Speed Importance'].iloc[i])\n",
    "        existing_queries.append(query_sample)\n",
    "\n",
    "    \n",
    "    #KNN model\n",
    "    nn_model=KNeighborsClassifier(n_neighbors=1,p=1,leaf_size=60)\n",
    "    \n",
    "    #KNN Top Rec\n",
    "    nn_model.fit(X_train, y1_train.top)\n",
    "    knn1_recommendation=nn_model.predict(query)\n",
    "\n",
    "    #KNN 2nd Rec\n",
    "    nn_model.fit(X_train, y2_train.second)\n",
    "    knn2_recommendation=nn_model.predict(query)\n",
    "    \n",
    "    #KNN 3rd Rec\n",
    "    nn_model.fit(X_train, y3_train.third)\n",
    "    knn3_recommendation=nn_model.predict(query)\n",
    "    \n",
    "    #print('KNN Recs: {},{},{}'.format(knn1_recommendation, knn2_recommendation, knn3_recommendation))\n",
    "    \n",
    "    #If already rated by expert, return expert recommendations\n",
    "    if query[0] in existing_queries:    \n",
    "        return knn1_recommendation[0]\n",
    "    \n",
    "    #If not already rated by expert, cross-check recommendation with manual recommendation.\n",
    "    \n",
    "    #Manual Model\n",
    "    #Query for phone OS\n",
    "    if query[0][0]<2:\n",
    "        narrow_df=phones[phones.OS=='Android']\n",
    "    elif  query[0][0]>2:\n",
    "        narrow_df=phones[phones.OS=='iOS']\n",
    "    else: \n",
    "        narrow_df=phones\n",
    "        \n",
    "    #print('------OS filtered')\n",
    "    #print(narrow_df)\n",
    "    \n",
    "    #Query for Price\n",
    "    if query[0][1]==400:\n",
    "        narrow_df=narrow_df[narrow_df.Price<=600]\n",
    "    \n",
    "    elif query[0][1]==600:\n",
    "        narrow_df=narrow_df[narrow_df.Price<=800]\n",
    "        \n",
    "    elif query[0][1]==800:\n",
    "        narrow_df=narrow_df\n",
    "        \n",
    "    elif query[0][1]==700:\n",
    "        narrow_df=narrow_df\n",
    "    \n",
    "    #print('------Price Filtered')\n",
    "    #print(narrow_df)\n",
    "    \n",
    "    #Query for Area\n",
    "    \n",
    "    #Phones filtered by size, if no preference, no filter applied.\n",
    "    \n",
    "    if query[0][2]==1:\n",
    "        narrow_df=narrow_df[narrow_df['Area']<=17] #Small phones only\n",
    "    elif query[0][2]==2:\n",
    "        narrow_df=narrow_df[(narrow_df.Area>17) & (narrow_df.Area<=19.05)] #Medium Phones Only\n",
    "    elif query[0][2]==3:\n",
    "        narrow_df=narrow_df[narrow_df['Area']>19.05] #Large Phones only\n",
    "    \n",
    "    #print('------Area Filtered')\n",
    "    #print(narrow_df)\n",
    "    \n",
    "    #Query for Camera\n",
    "    \n",
    "    #Phones filtered by camera rating according to percentiles. \n",
    "    # For instance, 'A lot' = 60+ percentile, 'A little'=20+ percentile\n",
    "    \n",
    "    camera_percentile={4:80,3:60,2:40,1:20,0:0}\n",
    "    percentile=camera_percentile.get(query[0][3])\n",
    "    cutoff=np.percentile(phones.Camera,percentile)\n",
    "    \n",
    "    narrow_df=narrow_df[narrow_df['Camera']>=cutoff]\n",
    "    \n",
    "    #print('------Camera Filtered')\n",
    "    #print(narrow_df)\n",
    "    \n",
    "    #Query for Battery\n",
    "    battery_percentile={3:75,2:50,1:25,0:0.0}\n",
    "    percentile=battery_percentile.get(query[0][4])\n",
    "    cutoff=np.percentile(phones.Battery,percentile)\n",
    "    \n",
    "    narrow_df=narrow_df[narrow_df['Battery']>=cutoff]\n",
    "    \n",
    "    #print('------Battery Filtered')\n",
    "    #print(narrow_df)\n",
    "    \n",
    "    #Query for Speed Importance\n",
    "    speed_percentile={3:75,2:50,1:25,0:0.0}\n",
    "    percentile=speed_percentile.get(query[0][5])\n",
    "    cutoff=np.percentile(phones.Speed,percentile)\n",
    "    \n",
    "    narrow_df=narrow_df[narrow_df['Speed']>=cutoff]\n",
    "\n",
    "    #print('------Speed Filtered')\n",
    "    #print(narrow_df)\n",
    "    \n",
    "    #Checking if KNN Top1 Rec is in narrow_df. If it is, all conditions user requirements have been met.\n",
    "    # Recommend KNN product if true. Otherwise, try manual model.\n",
    "    check=knn1_recommendation[0] in narrow_df.Phone\n",
    "    \n",
    "    if check:\n",
    "        top_recommendation=knn1_recommendation\n",
    "        \n",
    "    else: #Trying manual model recommendation.\n",
    "        if len(narrow_df.Phone)==1: \n",
    "            #If KNN recommendation does not meet requirements and manual rec has one that does, recommend that instead.\n",
    "            top_recommendation=narrow_df.Phone.iloc[0]\n",
    "\n",
    "        elif len(narrow_df.Phone)>1: \n",
    "            #If manual model has multiple recommendations, pick one with highest rating\n",
    "            narrow_df.sort_values(by=['Rating'],ascending=False,inplace=True)\n",
    "            top_recommendation=narrow_df.iloc[0].Phone\n",
    "\n",
    "        else: \n",
    "            # If manual model has no recommendations, use KNN recommendation.\n",
    "            top_recommendation=knn1_recommendation[0]\n",
    "    \n",
    "    return top_recommendation"
   ]
  },
  {
   "cell_type": "code",
   "execution_count": 21,
   "id": "8a792ab9",
   "metadata": {
    "scrolled": true
   },
   "outputs": [
    {
     "data": {
      "text/plain": [
       "'Motorola Moto G100'"
      ]
     },
     "execution_count": 21,
     "metadata": {},
     "output_type": "execute_result"
    }
   ],
   "source": [
    "#Testing recommender output\n",
    "\n",
    "query='iPhone, $800+, Small, A lot, A little, A lot'\n",
    "query=[0,400,3,1,1,3]\n",
    "predict_top_3_ranking(query)"
   ]
  },
  {
   "cell_type": "markdown",
   "id": "15bfe4ba",
   "metadata": {},
   "source": [
    "### Evaluation for top recommendation"
   ]
  },
  {
   "cell_type": "code",
   "execution_count": 33,
   "id": "a6237109",
   "metadata": {
    "scrolled": true
   },
   "outputs": [],
   "source": [
    "#Predict recommendations for test set.\n",
    "predicted_recommendations=[]\n",
    "for i in range(X_test.shape[0]):\n",
    "    rec=predict_top_3_ranking(list(X_test.iloc[i]))\n",
    "    predicted_recommendations.append(rec)"
   ]
  },
  {
   "cell_type": "code",
   "execution_count": 23,
   "id": "0d0660ab",
   "metadata": {},
   "outputs": [
    {
     "name": "stdout",
     "output_type": "stream",
     "text": [
      "['Google Pixel 5a', 'Samsung Galaxy A42', 'Samsung Galaxy S22 Ultra', 'Apple iPhone 13 Pro Max', 'Google Pixel 6']\n"
     ]
    }
   ],
   "source": [
    "#Check some of the recommendations predicted.\n",
    "print(predicted_recommendations[:5])"
   ]
  },
  {
   "cell_type": "code",
   "execution_count": 31,
   "id": "fa53bbb8",
   "metadata": {},
   "outputs": [
    {
     "name": "stdout",
     "output_type": "stream",
     "text": [
      "The top recommendation accuracy (corrected guessed) is 0.37.\n"
     ]
    }
   ],
   "source": [
    "#Calculate classification accuracy (for KNN only)\n",
    "count=0\n",
    "correct_count=0\n",
    "for i in range(y1_test.shape[0]):\n",
    "    count+=1\n",
    "    if y1_test.iloc[i][0]==predicted_recommendations[i]:\n",
    "        correct_count+=1\n",
    "        \n",
    "percent=correct_count/count  \n",
    "print('The top recommendation accuracy (corrected guessed) is {:.2f}.'.format(percent))"
   ]
  },
  {
   "cell_type": "code",
   "execution_count": 25,
   "id": "2d2c42e2",
   "metadata": {},
   "outputs": [
    {
     "name": "stdout",
     "output_type": "stream",
     "text": [
      "The top recommendation accuracy (corrected guessed) is 0.46.\n"
     ]
    }
   ],
   "source": [
    "#Calculate classification accuracy (for Hybrid Model)\n",
    "count=0\n",
    "correct_count=0\n",
    "for i in range(y1_test.shape[0]):\n",
    "    count+=1\n",
    "    if y1_test.iloc[i][0]==predicted_recommendations[i]:\n",
    "        correct_count+=1\n",
    "        \n",
    "percent=correct_count/count  \n",
    "print('The top recommendation accuracy (corrected guessed) is {:.2f}.'.format(percent))"
   ]
  },
  {
   "cell_type": "code",
   "execution_count": 26,
   "id": "b829c981",
   "metadata": {},
   "outputs": [
    {
     "name": "stdout",
     "output_type": "stream",
     "text": [
      "The predicted top recommendation exists in 0.59 of all top 3 recommendation lists.\n"
     ]
    }
   ],
   "source": [
    "#Evaluate count of how many predicted top recommendations match top 3 recommendations (ground truth) (Hybrid)\n",
    "\n",
    "count=0\n",
    "correct_count=0\n",
    "for i in range(y1_test.shape[0]):\n",
    "    count+=1\n",
    "    if predicted_recommendations[i] in [y1_test.iloc[i][0],y2_test.iloc[i][0],y3_test.iloc[i][0]]:\n",
    "        correct_count+=1\n",
    "percent=correct_count/count\n",
    "print('The predicted top recommendation exists in {:.2f} of all top 3 recommendation lists.'.format(percent))"
   ]
  }
 ],
 "metadata": {
  "kernelspec": {
   "display_name": "Python 3",
   "language": "python",
   "name": "python3"
  },
  "language_info": {
   "codemirror_mode": {
    "name": "ipython",
    "version": 3
   },
   "file_extension": ".py",
   "mimetype": "text/x-python",
   "name": "python",
   "nbconvert_exporter": "python",
   "pygments_lexer": "ipython3",
   "version": "3.8.8"
  }
 },
 "nbformat": 4,
 "nbformat_minor": 5
}
